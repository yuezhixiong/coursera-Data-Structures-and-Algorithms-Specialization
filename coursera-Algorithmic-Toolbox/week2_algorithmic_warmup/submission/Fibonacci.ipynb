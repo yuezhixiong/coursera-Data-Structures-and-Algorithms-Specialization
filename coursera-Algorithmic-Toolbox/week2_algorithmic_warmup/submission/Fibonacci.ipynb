{
 "cells": [
  {
   "cell_type": "markdown",
   "metadata": {},
   "source": [
    "# Fibonacci Number"
   ]
  },
  {
   "cell_type": "code",
   "execution_count": null,
   "metadata": {},
   "outputs": [],
   "source": [
    "# naive\n",
    "def naive(n):\n",
    "    if (n <= 1):\n",
    "        return n\n",
    "\n",
    "    return naive(n - 1) + naive(n - 2)"
   ]
  },
  {
   "cell_type": "code",
   "execution_count": 6,
   "metadata": {},
   "outputs": [],
   "source": [
    "# fast\n",
    "def fast(n):\n",
    "    if (n <= 1):\n",
    "        return n\n",
    "    a, b = 0, 1\n",
    "    for _ in range(n-1):\n",
    "        c = a + b\n",
    "        a, b = b, c\n",
    "    return c"
   ]
  },
  {
   "cell_type": "code",
   "execution_count": 8,
   "metadata": {},
   "outputs": [],
   "source": [
    "# stress test\n",
    "from random import randint\n",
    "def stress(N):\n",
    "    for _ in range(N):\n",
    "        n = randint(0,45)\n",
    "        result1 = naive(n)\n",
    "        result2 = fast(n)\n",
    "        if result1 != result2:\n",
    "            print('n = ',n)\n",
    "            print('Wrong answer:',result1,result2)\n",
    "            return\n",
    "\n",
    "stress(10)"
   ]
  },
  {
   "cell_type": "markdown",
   "metadata": {},
   "source": [
    "# Last Digit of a Large Fibonacci Number"
   ]
  },
  {
   "cell_type": "code",
   "execution_count": 10,
   "metadata": {},
   "outputs": [],
   "source": [
    "def get_fibonacci_last_digit_naive(n):\n",
    "    if n <= 1:\n",
    "        return n\n",
    "\n",
    "    previous = 0\n",
    "    current  = 1\n",
    "\n",
    "    for _ in range(n - 1):\n",
    "        previous, current = current, previous + current\n",
    "\n",
    "    return current % 10"
   ]
  },
  {
   "cell_type": "code",
   "execution_count": 11,
   "metadata": {},
   "outputs": [],
   "source": [
    "def get_fibonacci_last_digit_fast(n):\n",
    "    if n <= 1:\n",
    "        return n\n",
    "\n",
    "    n1 = 0\n",
    "    n2  = 1\n",
    "\n",
    "    for _ in range(n - 1):\n",
    "        m = n1 + n2\n",
    "        m = m % 10\n",
    "        n1 = n2\n",
    "        n2 = m\n",
    "\n",
    "    return m"
   ]
  },
  {
   "cell_type": "code",
   "execution_count": 14,
   "metadata": {},
   "outputs": [
    {
     "name": "stdout",
     "output_type": "stream",
     "text": [
      "n = 7633966\n",
      "n = 5812831\n",
      "n = 9301410\n",
      "n = 7255869\n",
      "n = 4693486\n",
      "n = 935509\n",
      "n = 1908071\n",
      "n = 5721408\n",
      "n = 53458\n",
      "n = 416176\n"
     ]
    }
   ],
   "source": [
    "# stress test\n",
    "from random import randint\n",
    "def stress(N):\n",
    "    for _ in range(N):\n",
    "        n = randint(0,10**7)\n",
    "        print('n =',n)\n",
    "        result1 = get_fibonacci_last_digit_naive(n)\n",
    "        result2 = get_fibonacci_last_digit_fast(n)\n",
    "        if result1 == result2:\n",
    "            print('OK')\n",
    "        else:\n",
    "            print('Wrong answer:',result1,result2)\n",
    "            return\n",
    "\n",
    "stress(10)"
   ]
  },
  {
   "cell_type": "markdown",
   "metadata": {},
   "source": [
    "# Fibonacci Number Again"
   ]
  },
  {
   "cell_type": "code",
   "execution_count": 1,
   "metadata": {},
   "outputs": [],
   "source": [
    "def get_fibonacci_huge_naive(n, m):\n",
    "    if n <= 1:\n",
    "        return n\n",
    "\n",
    "    previous = 0\n",
    "    current  = 1\n",
    "\n",
    "    for _ in range(n - 1):\n",
    "        previous, current = current, previous + current\n",
    "\n",
    "    return current % m"
   ]
  },
  {
   "cell_type": "code",
   "execution_count": null,
   "metadata": {},
   "outputs": [],
   "source": []
  }
 ],
 "metadata": {
  "kernelspec": {
   "display_name": "Python 3",
   "language": "python",
   "name": "python3"
  },
  "language_info": {
   "codemirror_mode": {
    "name": "ipython",
    "version": 3
   },
   "file_extension": ".py",
   "mimetype": "text/x-python",
   "name": "python",
   "nbconvert_exporter": "python",
   "pygments_lexer": "ipython3",
   "version": "3.7.1"
  }
 },
 "nbformat": 4,
 "nbformat_minor": 2
}
