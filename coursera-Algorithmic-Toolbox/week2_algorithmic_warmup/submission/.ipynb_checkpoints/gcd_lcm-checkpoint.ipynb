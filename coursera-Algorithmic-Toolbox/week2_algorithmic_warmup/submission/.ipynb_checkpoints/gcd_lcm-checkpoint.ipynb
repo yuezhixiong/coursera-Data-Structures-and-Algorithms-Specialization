{
 "cells": [
  {
   "cell_type": "markdown",
   "metadata": {},
   "source": [
    "# Greatest Common Divisor"
   ]
  },
  {
   "cell_type": "code",
   "execution_count": 2,
   "metadata": {},
   "outputs": [],
   "source": [
    "def gcd_naive(a, b):\n",
    "    current_gcd = 1\n",
    "    for d in range(2, min(a, b) + 1):\n",
    "        if a % d == 0 and b % d == 0:\n",
    "            if d > current_gcd:\n",
    "                current_gcd = d\n",
    "\n",
    "    return current_gcd"
   ]
  },
  {
   "cell_type": "code",
   "execution_count": 3,
   "metadata": {},
   "outputs": [],
   "source": [
    "def gcd_fast(a, b):\n",
    "    dividend = a if (a >= b) else b\n",
    "    divisor = a if (a <= b) else b\n",
    "\n",
    "    while divisor != 0:\n",
    "        remainder = dividend % divisor\n",
    "        dividend = divisor\n",
    "        divisor = remainder\n",
    "\n",
    "    return dividend"
   ]
  },
  {
   "cell_type": "code",
   "execution_count": 4,
   "metadata": {},
   "outputs": [
    {
     "name": "stdout",
     "output_type": "stream",
     "text": [
      "input: 5166 8341\n",
      "OK:  1\n"
     ]
    }
   ],
   "source": [
    "# stress test\n",
    "from random import randint\n",
    "def stress(N, M):\n",
    "    for _ in range(N):\n",
    "        n1 = randint(0,M)\n",
    "        n2 = randint(0,M)\n",
    "        print('input:', n1, n2)\n",
    "        result1 = gcd_naive(n1, n2)\n",
    "        result2 = gcd_fast(n1, n2)\n",
    "        if result1 == result2:\n",
    "            print('OK: ',result1)\n",
    "        else:\n",
    "            print('wrong answer:',result1, result2)\n",
    "            return\n",
    "\n",
    "stress(1, 10000)"
   ]
  },
  {
   "cell_type": "markdown",
   "metadata": {},
   "source": [
    "# Least Common Multiple"
   ]
  },
  {
   "cell_type": "code",
   "execution_count": 5,
   "metadata": {},
   "outputs": [],
   "source": [
    "def lcm_naive(a, b):\n",
    "    for l in range(1, a*b + 1):\n",
    "        if l % a == 0 and l % b == 0:\n",
    "            return l\n",
    "\n",
    "    return a*b"
   ]
  },
  {
   "cell_type": "code",
   "execution_count": 6,
   "metadata": {},
   "outputs": [],
   "source": [
    "def lcm_fast(a, b):\n",
    "    return (a * b) // gcd_fast(a, b) # floor division"
   ]
  },
  {
   "cell_type": "code",
   "execution_count": 9,
   "metadata": {},
   "outputs": [
    {
     "name": "stdout",
     "output_type": "stream",
     "text": [
      "input: 3143 3316\n",
      "OK:  10422188\n"
     ]
    }
   ],
   "source": [
    "# stress test\n",
    "from random import randint\n",
    "def stress(N, M):\n",
    "    for _ in range(N):\n",
    "        n1 = randint(0,M)\n",
    "        n2 = randint(0,M)\n",
    "        print('input:', n1, n2)\n",
    "        result1 = lcm_naive(n1, n2)\n",
    "        result2 = lcm_fast(n1, n2)\n",
    "        if result1 == result2:\n",
    "            print('OK: ',result1)\n",
    "        else:\n",
    "            print('wrong answer:',result1, result2)\n",
    "            return\n",
    "\n",
    "stress(1, 10000)"
   ]
  },
  {
   "cell_type": "code",
   "execution_count": null,
   "metadata": {},
   "outputs": [],
   "source": []
  }
 ],
 "metadata": {
  "kernelspec": {
   "display_name": "Python 3",
   "language": "python",
   "name": "python3"
  },
  "language_info": {
   "codemirror_mode": {
    "name": "ipython",
    "version": 3
   },
   "file_extension": ".py",
   "mimetype": "text/x-python",
   "name": "python",
   "nbconvert_exporter": "python",
   "pygments_lexer": "ipython3",
   "version": "3.7.1"
  }
 },
 "nbformat": 4,
 "nbformat_minor": 2
}
