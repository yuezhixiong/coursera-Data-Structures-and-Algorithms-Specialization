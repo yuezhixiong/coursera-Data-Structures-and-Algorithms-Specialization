{
 "cells": [
  {
   "cell_type": "code",
   "execution_count": 1,
   "metadata": {},
   "outputs": [],
   "source": [
    "# naive algorithm\n",
    "def mpp_naive(numbers):\n",
    "    n = len(numbers)\n",
    "    max_product = 0\n",
    "    for first in range(n):\n",
    "        for second in range(first + 1, n):\n",
    "            max_product = max(max_product,\n",
    "                              numbers[first] * numbers[second])\n",
    "\n",
    "    return max_product"
   ]
  },
  {
   "cell_type": "code",
   "execution_count": 2,
   "metadata": {},
   "outputs": [],
   "source": [
    "# fast algorithm\n",
    "def mpp_fast(numbers):\n",
    "    p1 = max(numbers)\n",
    "    numbers.remove(p1)\n",
    "    p2 = max(numbers)\n",
    "    return p1*p2"
   ]
  },
  {
   "cell_type": "code",
   "execution_count": null,
   "metadata": {},
   "outputs": [],
   "source": [
    "#Stress test\n",
    "from random import randint\n",
    "def max_prod_stress(N,M):\n",
    "    while True:\n",
    "        n = randint(2,N)\n",
    "        A = [None]*n\n",
    "        for i in range(n):\n",
    "            A[i] = randint(0,M)\n",
    "        print(A)\n",
    "        result1 = mpp_naive(A)\n",
    "        result2 = mpp_fast(A)\n",
    "        if result1 != result2:\n",
    "            print('Wrong answer:',result1,result2)\n",
    "            return\n",
    "\n",
    "max_prod_stress(5,100)"
   ]
  },
  {
   "cell_type": "code",
   "execution_count": null,
   "metadata": {},
   "outputs": [],
   "source": []
  }
 ],
 "metadata": {
  "kernelspec": {
   "display_name": "Python 3",
   "language": "python",
   "name": "python3"
  },
  "language_info": {
   "codemirror_mode": {
    "name": "ipython",
    "version": 3
   },
   "file_extension": ".py",
   "mimetype": "text/x-python",
   "name": "python",
   "nbconvert_exporter": "python",
   "pygments_lexer": "ipython3",
   "version": "3.7.1"
  }
 },
 "nbformat": 4,
 "nbformat_minor": 2
}
